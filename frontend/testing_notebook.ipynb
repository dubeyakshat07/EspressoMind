{
 "cells": [
  {
   "cell_type": "code",
   "execution_count": 2,
   "id": "4fa81a18",
   "metadata": {},
   "outputs": [],
   "source": [
    "from agents.research_agent import ResearchAgent"
   ]
  },
  {
   "cell_type": "code",
   "execution_count": 5,
   "id": "7b7a0ad3",
   "metadata": {},
   "outputs": [
    {
     "name": "stdout",
     "output_type": "stream",
     "text": [
      "PubMed search error: 'dict' object has no attribute 'metadata'\n",
      " In 2025, there have been several significant advancements in the field of breast cancer treatment. Here are some notable ones:\n",
      "\n",
      "1. Personalized Medicine: With the advent of advanced genomic sequencing and bioinformatics, doctors can now create personalized treatment plans based on a patient's unique genetic profile. This approach allows for more effective targeting of specific cancer cells while minimizing damage to healthy tissue.\n",
      "\n",
      "2. Immunotherapy: The use of immunotherapies has expanded significantly in breast cancer treatment. These treatments stimulate the immune system to fight cancer cells, and they have shown particular promise in triple-negative breast cancer (TNBC), a subtype that does not respond to hormonal therapy.\n",
      "\n",
      "3. Adoptive Cell Therapy: This innovative approach involves taking a patient's own T-cells (a type of immune cell), modifying them to recognize and attack cancer cells, and then reintroducing them into the body. This treatment has shown promising results in early-stage clinical trials for breast cancer.\n",
      "\n",
      "4. Targeted Radionuclide Therapy: This treatment uses radioactive substances that are specifically targeted to cancer cells. One example is Lutetium-177 (Lu-177) dotatate, which is used to treat neuroendocrine tumors but is also being investigated for breast cancer.\n",
      "\n",
      "5. AI and Machine Learning: Artificial intelligence and machine learning are increasingly being used in breast cancer diagnosis and treatment planning. These technologies can help doctors predict the likelihood of a tumor recurring, recommend personalized treatment plans, and even identify potential side effects before they occur.\n",
      "\n",
      "6. Nanotechnology: Nanoparticles are being developed to deliver chemotherapy drugs more effectively to cancer cells while minimizing damage to healthy tissue. Some nanoparticles can also be designed to respond to specific triggers, such as heat or light, to release their payload at the right time and place.\n",
      "\n",
      "7. Breast Cancer Vaccines: Research is ongoing into the development of breast cancer vaccines, which would stimulate the immune system to produce antibodies against cancer cells. While still in the early stages, these vaccines hold great promise for preventing recurrence and improving survival rates.\n",
      "Agent execution error: name 'os' is not defined\n"
     ]
    }
   ],
   "source": [
    "agent = ResearchAgent()\n",
    "\n",
    "# Automatic tool selection\n",
    "result = agent.run(\"What are recent advances in breast cancer treatment in 2025?\")\n",
    "print(result[\"answer\"])\n",
    "\n",
    "# With PDF analysis\n",
    "pdf_result = agent.run(\n",
    "    \"Summarize the key findings\", \n",
    "    pdf_path=\"research_paper.pdf\"\n",
    ")\n",
    "\n",
    "# Force specific tool\n",
    "arxiv_result = agent.run(\n",
    "    \"Transformer architectures in NLP\",\n",
    "    search_type=\"arxiv\"\n",
    ")"
   ]
  },
  {
   "cell_type": "code",
   "execution_count": null,
   "id": "cbb3d048",
   "metadata": {},
   "outputs": [],
   "source": []
  }
 ],
 "metadata": {
  "kernelspec": {
   "display_name": "espresso",
   "language": "python",
   "name": "python3"
  },
  "language_info": {
   "codemirror_mode": {
    "name": "ipython",
    "version": 3
   },
   "file_extension": ".py",
   "mimetype": "text/x-python",
   "name": "python",
   "nbconvert_exporter": "python",
   "pygments_lexer": "ipython3",
   "version": "3.10.16"
  }
 },
 "nbformat": 4,
 "nbformat_minor": 5
}
